{
  "nbformat": 4,
  "nbformat_minor": 0,
  "metadata": {
    "colab": {
      "provenance": []
    },
    "kernelspec": {
      "name": "python3",
      "display_name": "Python 3"
    },
    "language_info": {
      "name": "python"
    }
  },
  "cells": [
    {
      "cell_type": "code",
      "execution_count": null,
      "metadata": {
        "id": "PLk50OSfQtyK"
      },
      "outputs": [],
      "source": [
        "import pandas as pd\n",
        "import seaborn as sns\n",
        "import matplotlib as mpl\n",
        "import matplotlib.pyplot as plt\n",
        "\n",
        "from statsmodels.tsa.api import VAR\n",
        "from statsmodels.tsa.stattools import grangercausalitytests, adfuller\n",
        "import warnings\n",
        "warnings.filterwarnings('ignore')\n",
        "import statsmodels.api as sm"
      ]
    },
    {
      "cell_type": "code",
      "source": [
        "df = pd.read_csv('/content/sample_data/usa_dataset.csv',index_col='dates', parse_dates=True)\n",
        "df.index.asfreq = 'MS'"
      ],
      "metadata": {
        "id": "33Sr2LTFSAt9"
      },
      "execution_count": null,
      "outputs": []
    },
    {
      "cell_type": "code",
      "source": [
        "df.info()"
      ],
      "metadata": {
        "colab": {
          "base_uri": "https://localhost:8080/"
        },
        "id": "AT_FN5DaOhBS",
        "outputId": "f3ab0607-fee5-4f21-ee2e-9d83183104d1"
      },
      "execution_count": null,
      "outputs": [
        {
          "output_type": "stream",
          "name": "stdout",
          "text": [
            "<class 'pandas.core.frame.DataFrame'>\n",
            "DatetimeIndex: 262 entries, 2001-01-15 to 2022-10-15\n",
            "Data columns (total 2 columns):\n",
            " #   Column           Non-Null Count  Dtype  \n",
            "---  ------           --------------  -----  \n",
            " 0   gasoline_price   262 non-null    float64\n",
            " 1   crude_oil_Price  262 non-null    float64\n",
            "dtypes: float64(2)\n",
            "memory usage: 6.1 KB\n"
          ]
        }
      ]
    },
    {
      "cell_type": "code",
      "source": [
        "n_obs = 13\n",
        "df_train, df_test = df[0:-n_obs], df[-n_obs:]"
      ],
      "metadata": {
        "id": "UShy1BzMSLmI"
      },
      "execution_count": null,
      "outputs": []
    },
    {
      "cell_type": "code",
      "source": [
        "def adf(x):\n",
        "    res=adfuller(x)\n",
        "    print('\\033[0m','Test-Statistic:', res[0])\n",
        "    print('\\033[0m','P-values', res[1])\n",
        "    if(res[1]<0.05):\n",
        "        print('\\033[1m','Stationary')\n",
        "    else:\n",
        "        print('\\033[1m','Non-Stationary')"
      ],
      "metadata": {
        "id": "qt_okHMuSORD"
      },
      "execution_count": null,
      "outputs": []
    },
    {
      "cell_type": "code",
      "source": [
        "for column in df_train:\n",
        "    print(column)\n",
        "    data=df_train[column]\n",
        "    adf(data)"
      ],
      "metadata": {
        "colab": {
          "base_uri": "https://localhost:8080/"
        },
        "id": "GH2zZhgySQ1j",
        "outputId": "edfdf02a-9d92-49a3-dc79-6d5e1dd1e16b"
      },
      "execution_count": null,
      "outputs": [
        {
          "output_type": "stream",
          "name": "stdout",
          "text": [
            "gasoline_price\n",
            "\u001b[0m Test-Statistic: -3.0701964599955476\n",
            "\u001b[0m P-values 0.028838855571353628\n",
            "\u001b[1m Stationary\n",
            "crude_oil_Price\n",
            "\u001b[0m Test-Statistic: -2.8524598007270874\n",
            "\u001b[0m P-values 0.05116215644012193\n",
            "\u001b[1m Non-Stationary\n"
          ]
        }
      ]
    },
    {
      "cell_type": "code",
      "source": [
        "df_train_transformed = df_train.diff().dropna()"
      ],
      "metadata": {
        "id": "ZU0gzd-JSVGi"
      },
      "execution_count": null,
      "outputs": []
    },
    {
      "cell_type": "code",
      "source": [
        "for column in df_train_transformed:\n",
        "    print(column)\n",
        "    data=df_train_transformed[column]\n",
        "    adf(data)"
      ],
      "metadata": {
        "colab": {
          "base_uri": "https://localhost:8080/"
        },
        "id": "VOfNTBfSSel7",
        "outputId": "3218938e-4722-4736-c0b9-5140f921ec8b"
      },
      "execution_count": null,
      "outputs": [
        {
          "output_type": "stream",
          "name": "stdout",
          "text": [
            "gasoline_price\n",
            "\u001b[0m Test-Statistic: -7.63771794700722\n",
            "\u001b[0m P-values 1.9324411924976387e-11\n",
            "\u001b[1m Stationary\n",
            "crude_oil_Price\n",
            "\u001b[0m Test-Statistic: -10.38424469183463\n",
            "\u001b[0m P-values 2.100160639706125e-18\n",
            "\u001b[1m Stationary\n"
          ]
        }
      ]
    },
    {
      "cell_type": "code",
      "source": [
        "import numpy as np\n",
        "\n",
        "maxlag=30\n",
        "test = 'ssr_chi2test'\n",
        "\n",
        "def grangers_causation_matrix(data, variables, test='ssr_chi2test', verbose=False):    \n",
        "   \n",
        "    df = pd.DataFrame(np.zeros((len(variables), len(variables))), columns=variables, index=variables)\n",
        "    for c in df.columns:\n",
        "        for r in df.index:\n",
        "            test_result = grangercausalitytests(data[[r, c]], maxlag=maxlag, verbose=False)\n",
        "            p_values = [round(test_result[i+1][0][test][1],4) for i in range(maxlag)]\n",
        "            if verbose: print(f'Y = {r}, X = {c}, P Values = {p_values}')\n",
        "            min_p_value = np.min(p_values)\n",
        "            df.loc[r, c] = min_p_value\n",
        "    df.columns = [var + '_x' for var in variables]\n",
        "    df.index = [var + '_y' for var in variables]\n",
        "    return df\n",
        "\n",
        "grangers_causation_matrix(df_train_transformed, variables = df_train_transformed.columns)"
      ],
      "metadata": {
        "colab": {
          "base_uri": "https://localhost:8080/",
          "height": 112
        },
        "id": "TtoqtNDfSf0N",
        "outputId": "6d44bfe9-189b-4d82-c9f0-93827e62f287"
      },
      "execution_count": null,
      "outputs": [
        {
          "output_type": "execute_result",
          "data": {
            "text/plain": [
              "                   gasoline_price_x  crude_oil_Price_x\n",
              "gasoline_price_y             1.0000                0.0\n",
              "crude_oil_Price_y            0.0001                1.0"
            ],
            "text/html": [
              "\n",
              "  <div id=\"df-5ae19718-0a5b-47b8-995d-13dc95112c59\">\n",
              "    <div class=\"colab-df-container\">\n",
              "      <div>\n",
              "<style scoped>\n",
              "    .dataframe tbody tr th:only-of-type {\n",
              "        vertical-align: middle;\n",
              "    }\n",
              "\n",
              "    .dataframe tbody tr th {\n",
              "        vertical-align: top;\n",
              "    }\n",
              "\n",
              "    .dataframe thead th {\n",
              "        text-align: right;\n",
              "    }\n",
              "</style>\n",
              "<table border=\"1\" class=\"dataframe\">\n",
              "  <thead>\n",
              "    <tr style=\"text-align: right;\">\n",
              "      <th></th>\n",
              "      <th>gasoline_price_x</th>\n",
              "      <th>crude_oil_Price_x</th>\n",
              "    </tr>\n",
              "  </thead>\n",
              "  <tbody>\n",
              "    <tr>\n",
              "      <th>gasoline_price_y</th>\n",
              "      <td>1.0000</td>\n",
              "      <td>0.0</td>\n",
              "    </tr>\n",
              "    <tr>\n",
              "      <th>crude_oil_Price_y</th>\n",
              "      <td>0.0001</td>\n",
              "      <td>1.0</td>\n",
              "    </tr>\n",
              "  </tbody>\n",
              "</table>\n",
              "</div>\n",
              "      <button class=\"colab-df-convert\" onclick=\"convertToInteractive('df-5ae19718-0a5b-47b8-995d-13dc95112c59')\"\n",
              "              title=\"Convert this dataframe to an interactive table.\"\n",
              "              style=\"display:none;\">\n",
              "        \n",
              "  <svg xmlns=\"http://www.w3.org/2000/svg\" height=\"24px\"viewBox=\"0 0 24 24\"\n",
              "       width=\"24px\">\n",
              "    <path d=\"M0 0h24v24H0V0z\" fill=\"none\"/>\n",
              "    <path d=\"M18.56 5.44l.94 2.06.94-2.06 2.06-.94-2.06-.94-.94-2.06-.94 2.06-2.06.94zm-11 1L8.5 8.5l.94-2.06 2.06-.94-2.06-.94L8.5 2.5l-.94 2.06-2.06.94zm10 10l.94 2.06.94-2.06 2.06-.94-2.06-.94-.94-2.06-.94 2.06-2.06.94z\"/><path d=\"M17.41 7.96l-1.37-1.37c-.4-.4-.92-.59-1.43-.59-.52 0-1.04.2-1.43.59L10.3 9.45l-7.72 7.72c-.78.78-.78 2.05 0 2.83L4 21.41c.39.39.9.59 1.41.59.51 0 1.02-.2 1.41-.59l7.78-7.78 2.81-2.81c.8-.78.8-2.07 0-2.86zM5.41 20L4 18.59l7.72-7.72 1.47 1.35L5.41 20z\"/>\n",
              "  </svg>\n",
              "      </button>\n",
              "      \n",
              "  <style>\n",
              "    .colab-df-container {\n",
              "      display:flex;\n",
              "      flex-wrap:wrap;\n",
              "      gap: 12px;\n",
              "    }\n",
              "\n",
              "    .colab-df-convert {\n",
              "      background-color: #E8F0FE;\n",
              "      border: none;\n",
              "      border-radius: 50%;\n",
              "      cursor: pointer;\n",
              "      display: none;\n",
              "      fill: #1967D2;\n",
              "      height: 32px;\n",
              "      padding: 0 0 0 0;\n",
              "      width: 32px;\n",
              "    }\n",
              "\n",
              "    .colab-df-convert:hover {\n",
              "      background-color: #E2EBFA;\n",
              "      box-shadow: 0px 1px 2px rgba(60, 64, 67, 0.3), 0px 1px 3px 1px rgba(60, 64, 67, 0.15);\n",
              "      fill: #174EA6;\n",
              "    }\n",
              "\n",
              "    [theme=dark] .colab-df-convert {\n",
              "      background-color: #3B4455;\n",
              "      fill: #D2E3FC;\n",
              "    }\n",
              "\n",
              "    [theme=dark] .colab-df-convert:hover {\n",
              "      background-color: #434B5C;\n",
              "      box-shadow: 0px 1px 3px 1px rgba(0, 0, 0, 0.15);\n",
              "      filter: drop-shadow(0px 1px 2px rgba(0, 0, 0, 0.3));\n",
              "      fill: #FFFFFF;\n",
              "    }\n",
              "  </style>\n",
              "\n",
              "      <script>\n",
              "        const buttonEl =\n",
              "          document.querySelector('#df-5ae19718-0a5b-47b8-995d-13dc95112c59 button.colab-df-convert');\n",
              "        buttonEl.style.display =\n",
              "          google.colab.kernel.accessAllowed ? 'block' : 'none';\n",
              "\n",
              "        async function convertToInteractive(key) {\n",
              "          const element = document.querySelector('#df-5ae19718-0a5b-47b8-995d-13dc95112c59');\n",
              "          const dataTable =\n",
              "            await google.colab.kernel.invokeFunction('convertToInteractive',\n",
              "                                                     [key], {});\n",
              "          if (!dataTable) return;\n",
              "\n",
              "          const docLinkHtml = 'Like what you see? Visit the ' +\n",
              "            '<a target=\"_blank\" href=https://colab.research.google.com/notebooks/data_table.ipynb>data table notebook</a>'\n",
              "            + ' to learn more about interactive tables.';\n",
              "          element.innerHTML = '';\n",
              "          dataTable['output_type'] = 'display_data';\n",
              "          await google.colab.output.renderOutput(dataTable, element);\n",
              "          const docLink = document.createElement('div');\n",
              "          docLink.innerHTML = docLinkHtml;\n",
              "          element.appendChild(docLink);\n",
              "        }\n",
              "      </script>\n",
              "    </div>\n",
              "  </div>\n",
              "  "
            ]
          },
          "metadata": {},
          "execution_count": 9
        }
      ]
    },
    {
      "cell_type": "code",
      "source": [
        "model = VAR(df_train_transformed)\n",
        "for i in range(1,31):\n",
        "    result = model.fit(i)\n",
        " "
      ],
      "metadata": {
        "id": "wT6R5JM1TuoS"
      },
      "execution_count": null,
      "outputs": []
    },
    {
      "cell_type": "code",
      "source": [
        "results = model.fit(maxlags=12, ic='aic')\n",
        "results.summary()"
      ],
      "metadata": {
        "colab": {
          "base_uri": "https://localhost:8080/"
        },
        "id": "mnyVI_PiT5-R",
        "outputId": "d5cf0669-9787-4d71-ad47-4524c0049b5a"
      },
      "execution_count": null,
      "outputs": [
        {
          "output_type": "execute_result",
          "data": {
            "text/plain": [
              "  Summary of Regression Results   \n",
              "==================================\n",
              "Model:                         VAR\n",
              "Method:                        OLS\n",
              "Date:           Sun, 30, Apr, 2023\n",
              "Time:                     07:57:52\n",
              "--------------------------------------------------------------------\n",
              "No. of Equations:         2.00000    BIC:                  -0.295786\n",
              "Nobs:                     239.000    HQIC:                 -0.625788\n",
              "Log likelihood:          -538.853    FPE:                   0.428332\n",
              "AIC:                    -0.848529    Det(Omega_mle):        0.367567\n",
              "--------------------------------------------------------------------\n",
              "Results for equation gasoline_price\n",
              "=====================================================================================\n",
              "                        coefficient       std. error           t-stat            prob\n",
              "-------------------------------------------------------------------------------------\n",
              "const                      0.009995         0.008759            1.141           0.254\n",
              "L1.gasoline_price         -0.219654         0.076385           -2.876           0.004\n",
              "L1.crude_oil_Price         0.020450         0.002017           10.141           0.000\n",
              "L2.gasoline_price         -0.191519         0.077742           -2.464           0.014\n",
              "L2.crude_oil_Price         0.005492         0.002448            2.243           0.025\n",
              "L3.gasoline_price         -0.336590         0.076176           -4.419           0.000\n",
              "L3.crude_oil_Price         0.005421         0.002443            2.219           0.026\n",
              "L4.gasoline_price         -0.121943         0.077673           -1.570           0.116\n",
              "L4.crude_oil_Price         0.003882         0.002444            1.588           0.112\n",
              "L5.gasoline_price         -0.304136         0.076752           -3.963           0.000\n",
              "L5.crude_oil_Price         0.003560         0.002458            1.449           0.147\n",
              "L6.gasoline_price         -0.264112         0.077550           -3.406           0.001\n",
              "L6.crude_oil_Price         0.005074         0.002427            2.091           0.037\n",
              "L7.gasoline_price         -0.221553         0.076860           -2.883           0.004\n",
              "L7.crude_oil_Price         0.006983         0.002407            2.901           0.004\n",
              "L8.gasoline_price         -0.234988         0.076495           -3.072           0.002\n",
              "L8.crude_oil_Price         0.001693         0.002404            0.705           0.481\n",
              "L9.gasoline_price         -0.247853         0.068322           -3.628           0.000\n",
              "L9.crude_oil_Price         0.008324         0.002408            3.457           0.001\n",
              "=====================================================================================\n",
              "\n",
              "Results for equation crude_oil_Price\n",
              "=====================================================================================\n",
              "                        coefficient       std. error           t-stat            prob\n",
              "-------------------------------------------------------------------------------------\n",
              "const                      0.251561         0.343004            0.733           0.463\n",
              "L1.gasoline_price         -9.556990         2.991289           -3.195           0.001\n",
              "L1.crude_oil_Price         0.509655         0.078970            6.454           0.000\n",
              "L2.gasoline_price         -1.040185         3.044422           -0.342           0.733\n",
              "L2.crude_oil_Price         0.146186         0.095862            1.525           0.127\n",
              "L3.gasoline_price         -3.027665         2.983076           -1.015           0.310\n",
              "L3.crude_oil_Price        -0.041813         0.095664           -0.437           0.662\n",
              "L4.gasoline_price         -0.377049         3.041714           -0.124           0.901\n",
              "L4.crude_oil_Price         0.000372         0.095704            0.004           0.997\n",
              "L5.gasoline_price         -7.500004         3.005652           -2.495           0.013\n",
              "L5.crude_oil_Price         0.096081         0.096242            0.998           0.318\n",
              "L6.gasoline_price         -3.430136         3.036883           -1.129           0.259\n",
              "L6.crude_oil_Price         0.027587         0.095026            0.290           0.772\n",
              "L7.gasoline_price         -2.523983         3.009858           -0.839           0.402\n",
              "L7.crude_oil_Price         0.066540         0.094256            0.706           0.480\n",
              "L8.gasoline_price         -4.115058         2.995566           -1.374           0.170\n",
              "L8.crude_oil_Price         0.047379         0.094129            0.503           0.615\n",
              "L9.gasoline_price         -4.575461         2.675517           -1.710           0.087\n",
              "L9.crude_oil_Price         0.091901         0.094285            0.975           0.330\n",
              "=====================================================================================\n",
              "\n",
              "Correlation matrix of residuals\n",
              "                   gasoline_price  crude_oil_Price\n",
              "gasoline_price           1.000000         0.521170\n",
              "crude_oil_Price          0.521170         1.000000\n",
              "\n"
            ]
          },
          "metadata": {},
          "execution_count": 11
        }
      ]
    },
    {
      "cell_type": "code",
      "source": [
        "lag_order = results.k_ar\n",
        "lag_order"
      ],
      "metadata": {
        "colab": {
          "base_uri": "https://localhost:8080/"
        },
        "id": "yzduwSmGTxKL",
        "outputId": "72e660ee-d529-4815-e763-e9a7bf818237"
      },
      "execution_count": null,
      "outputs": [
        {
          "output_type": "execute_result",
          "data": {
            "text/plain": [
              "9"
            ]
          },
          "metadata": {},
          "execution_count": 12
        }
      ]
    },
    {
      "cell_type": "code",
      "source": [
        "from statsmodels.stats.stattools import durbin_watson\n",
        "\n",
        "out = durbin_watson(results.resid)\n",
        "\n",
        "for col, val in zip(df.columns, out):\n",
        "    print(col, ':', round(val, 2))"
      ],
      "metadata": {
        "colab": {
          "base_uri": "https://localhost:8080/"
        },
        "id": "vdTe-v4lT9xC",
        "outputId": "e2c549f2-57ca-45a8-f2b7-6def747458ac"
      },
      "execution_count": null,
      "outputs": [
        {
          "output_type": "stream",
          "name": "stdout",
          "text": [
            "gasoline_price : 1.98\n",
            "crude_oil_Price : 1.98\n"
          ]
        }
      ]
    },
    {
      "cell_type": "code",
      "source": [
        "lag_order = results.k_ar\n",
        "\n",
        "df_input = df_train_transformed.values[-lag_order:]\n",
        "df_forecast = results.forecast(y=df_input, steps=n_obs)\n",
        "df_forecast = (pd.DataFrame(df_forecast, index=df_test.index, columns=df_test.columns + '_pred'))\n",
        "\n",
        "def invert_transformation(df, pred):\n",
        "    forecast = df_forecast.copy()\n",
        "    columns = df.columns\n",
        "    for col in columns:\n",
        "        forecast[str(col)+'_pred'] = df[col].iloc[-1] + forecast[str(col)+'_pred'].cumsum()\n",
        "    return forecast\n",
        "output = invert_transformation(df_train, df_forecast)\n",
        "\n",
        "combined = pd.concat([output['gasoline_price_pred'], df_test['gasoline_price']],axis=1)"
      ],
      "metadata": {
        "id": "m0Sj4ORCUDp7"
      },
      "execution_count": null,
      "outputs": []
    },
    {
      "cell_type": "code",
      "source": [
        "combined"
      ],
      "metadata": {
        "colab": {
          "base_uri": "https://localhost:8080/",
          "height": 488
        },
        "id": "1W21AkDvUVVr",
        "outputId": "7362fbfe-7682-4cc1-f103-5a0ff0d8df48"
      },
      "execution_count": null,
      "outputs": [
        {
          "output_type": "execute_result",
          "data": {
            "text/plain": [
              "            gasoline_price_pred  gasoline_price\n",
              "dates                                          \n",
              "2021-10-15             3.115460            3.27\n",
              "2021-11-15             3.014341            3.40\n",
              "2021-12-15             2.960158            3.32\n",
              "2022-01-15             2.952756            3.30\n",
              "2022-02-15             2.941451            3.49\n",
              "2022-03-15             2.969199            4.32\n",
              "2022-04-15             3.021499            4.09\n",
              "2022-05-15             3.029389            4.33\n",
              "2022-06-15             3.099807            5.01\n",
              "2022-07-15             3.137078            4.65\n",
              "2022-08-15             3.160520            3.94\n",
              "2022-09-15             3.142939            3.69\n",
              "2022-10-15             3.122150            3.91"
            ],
            "text/html": [
              "\n",
              "  <div id=\"df-820fd9c0-3279-4710-bf48-e07e69e3b3e1\">\n",
              "    <div class=\"colab-df-container\">\n",
              "      <div>\n",
              "<style scoped>\n",
              "    .dataframe tbody tr th:only-of-type {\n",
              "        vertical-align: middle;\n",
              "    }\n",
              "\n",
              "    .dataframe tbody tr th {\n",
              "        vertical-align: top;\n",
              "    }\n",
              "\n",
              "    .dataframe thead th {\n",
              "        text-align: right;\n",
              "    }\n",
              "</style>\n",
              "<table border=\"1\" class=\"dataframe\">\n",
              "  <thead>\n",
              "    <tr style=\"text-align: right;\">\n",
              "      <th></th>\n",
              "      <th>gasoline_price_pred</th>\n",
              "      <th>gasoline_price</th>\n",
              "    </tr>\n",
              "    <tr>\n",
              "      <th>dates</th>\n",
              "      <th></th>\n",
              "      <th></th>\n",
              "    </tr>\n",
              "  </thead>\n",
              "  <tbody>\n",
              "    <tr>\n",
              "      <th>2021-10-15</th>\n",
              "      <td>3.115460</td>\n",
              "      <td>3.27</td>\n",
              "    </tr>\n",
              "    <tr>\n",
              "      <th>2021-11-15</th>\n",
              "      <td>3.014341</td>\n",
              "      <td>3.40</td>\n",
              "    </tr>\n",
              "    <tr>\n",
              "      <th>2021-12-15</th>\n",
              "      <td>2.960158</td>\n",
              "      <td>3.32</td>\n",
              "    </tr>\n",
              "    <tr>\n",
              "      <th>2022-01-15</th>\n",
              "      <td>2.952756</td>\n",
              "      <td>3.30</td>\n",
              "    </tr>\n",
              "    <tr>\n",
              "      <th>2022-02-15</th>\n",
              "      <td>2.941451</td>\n",
              "      <td>3.49</td>\n",
              "    </tr>\n",
              "    <tr>\n",
              "      <th>2022-03-15</th>\n",
              "      <td>2.969199</td>\n",
              "      <td>4.32</td>\n",
              "    </tr>\n",
              "    <tr>\n",
              "      <th>2022-04-15</th>\n",
              "      <td>3.021499</td>\n",
              "      <td>4.09</td>\n",
              "    </tr>\n",
              "    <tr>\n",
              "      <th>2022-05-15</th>\n",
              "      <td>3.029389</td>\n",
              "      <td>4.33</td>\n",
              "    </tr>\n",
              "    <tr>\n",
              "      <th>2022-06-15</th>\n",
              "      <td>3.099807</td>\n",
              "      <td>5.01</td>\n",
              "    </tr>\n",
              "    <tr>\n",
              "      <th>2022-07-15</th>\n",
              "      <td>3.137078</td>\n",
              "      <td>4.65</td>\n",
              "    </tr>\n",
              "    <tr>\n",
              "      <th>2022-08-15</th>\n",
              "      <td>3.160520</td>\n",
              "      <td>3.94</td>\n",
              "    </tr>\n",
              "    <tr>\n",
              "      <th>2022-09-15</th>\n",
              "      <td>3.142939</td>\n",
              "      <td>3.69</td>\n",
              "    </tr>\n",
              "    <tr>\n",
              "      <th>2022-10-15</th>\n",
              "      <td>3.122150</td>\n",
              "      <td>3.91</td>\n",
              "    </tr>\n",
              "  </tbody>\n",
              "</table>\n",
              "</div>\n",
              "      <button class=\"colab-df-convert\" onclick=\"convertToInteractive('df-820fd9c0-3279-4710-bf48-e07e69e3b3e1')\"\n",
              "              title=\"Convert this dataframe to an interactive table.\"\n",
              "              style=\"display:none;\">\n",
              "        \n",
              "  <svg xmlns=\"http://www.w3.org/2000/svg\" height=\"24px\"viewBox=\"0 0 24 24\"\n",
              "       width=\"24px\">\n",
              "    <path d=\"M0 0h24v24H0V0z\" fill=\"none\"/>\n",
              "    <path d=\"M18.56 5.44l.94 2.06.94-2.06 2.06-.94-2.06-.94-.94-2.06-.94 2.06-2.06.94zm-11 1L8.5 8.5l.94-2.06 2.06-.94-2.06-.94L8.5 2.5l-.94 2.06-2.06.94zm10 10l.94 2.06.94-2.06 2.06-.94-2.06-.94-.94-2.06-.94 2.06-2.06.94z\"/><path d=\"M17.41 7.96l-1.37-1.37c-.4-.4-.92-.59-1.43-.59-.52 0-1.04.2-1.43.59L10.3 9.45l-7.72 7.72c-.78.78-.78 2.05 0 2.83L4 21.41c.39.39.9.59 1.41.59.51 0 1.02-.2 1.41-.59l7.78-7.78 2.81-2.81c.8-.78.8-2.07 0-2.86zM5.41 20L4 18.59l7.72-7.72 1.47 1.35L5.41 20z\"/>\n",
              "  </svg>\n",
              "      </button>\n",
              "      \n",
              "  <style>\n",
              "    .colab-df-container {\n",
              "      display:flex;\n",
              "      flex-wrap:wrap;\n",
              "      gap: 12px;\n",
              "    }\n",
              "\n",
              "    .colab-df-convert {\n",
              "      background-color: #E8F0FE;\n",
              "      border: none;\n",
              "      border-radius: 50%;\n",
              "      cursor: pointer;\n",
              "      display: none;\n",
              "      fill: #1967D2;\n",
              "      height: 32px;\n",
              "      padding: 0 0 0 0;\n",
              "      width: 32px;\n",
              "    }\n",
              "\n",
              "    .colab-df-convert:hover {\n",
              "      background-color: #E2EBFA;\n",
              "      box-shadow: 0px 1px 2px rgba(60, 64, 67, 0.3), 0px 1px 3px 1px rgba(60, 64, 67, 0.15);\n",
              "      fill: #174EA6;\n",
              "    }\n",
              "\n",
              "    [theme=dark] .colab-df-convert {\n",
              "      background-color: #3B4455;\n",
              "      fill: #D2E3FC;\n",
              "    }\n",
              "\n",
              "    [theme=dark] .colab-df-convert:hover {\n",
              "      background-color: #434B5C;\n",
              "      box-shadow: 0px 1px 3px 1px rgba(0, 0, 0, 0.15);\n",
              "      filter: drop-shadow(0px 1px 2px rgba(0, 0, 0, 0.3));\n",
              "      fill: #FFFFFF;\n",
              "    }\n",
              "  </style>\n",
              "\n",
              "      <script>\n",
              "        const buttonEl =\n",
              "          document.querySelector('#df-820fd9c0-3279-4710-bf48-e07e69e3b3e1 button.colab-df-convert');\n",
              "        buttonEl.style.display =\n",
              "          google.colab.kernel.accessAllowed ? 'block' : 'none';\n",
              "\n",
              "        async function convertToInteractive(key) {\n",
              "          const element = document.querySelector('#df-820fd9c0-3279-4710-bf48-e07e69e3b3e1');\n",
              "          const dataTable =\n",
              "            await google.colab.kernel.invokeFunction('convertToInteractive',\n",
              "                                                     [key], {});\n",
              "          if (!dataTable) return;\n",
              "\n",
              "          const docLinkHtml = 'Like what you see? Visit the ' +\n",
              "            '<a target=\"_blank\" href=https://colab.research.google.com/notebooks/data_table.ipynb>data table notebook</a>'\n",
              "            + ' to learn more about interactive tables.';\n",
              "          element.innerHTML = '';\n",
              "          dataTable['output_type'] = 'display_data';\n",
              "          await google.colab.output.renderOutput(dataTable, element);\n",
              "          const docLink = document.createElement('div');\n",
              "          docLink.innerHTML = docLinkHtml;\n",
              "          element.appendChild(docLink);\n",
              "        }\n",
              "      </script>\n",
              "    </div>\n",
              "  </div>\n",
              "  "
            ]
          },
          "metadata": {},
          "execution_count": 15
        }
      ]
    },
    {
      "cell_type": "code",
      "source": [
        "gasoline=combined['gasoline_price']\n",
        "pred_gas=combined['gasoline_price_pred']\n",
        "\n",
        "plt.figure(figsize=(28,7))\n",
        "fig=plt.figure(1)\n",
        "\n",
        "std=plt.plot(gasoline,color='green',label='Gasoline price')\n",
        "orig1=plt.plot(pred_gas,color='blue',label='Predicted Gasoline price')\n",
        "\n",
        "\n",
        "plt.legend(loc='best')\n",
        "plt.title('Visulization')\n",
        "plt.show(block=False)"
      ],
      "metadata": {
        "colab": {
          "base_uri": "https://localhost:8080/",
          "height": 315
        },
        "id": "ImISbx4jKzTL",
        "outputId": "4e459b09-8137-43ef-85e7-505585d9fced"
      },
      "execution_count": null,
      "outputs": [
        {
          "output_type": "display_data",
          "data": {
            "text/plain": [
              "<Figure size 2800x700 with 1 Axes>"
            ],
            "image/png": "[encoded data removed]"
          },
          "metadata": {}
        }
      ]
    },
    {
      "cell_type": "code",
      "source": [
        "combined=combined.reset_index()"
      ],
      "metadata": {
        "id": "nY999UFibj0e"
      },
      "execution_count": null,
      "outputs": []
    },
    {
      "cell_type": "code",
      "source": [
        "predicted_list=combined['gasoline_price_pred']"
      ],
      "metadata": {
        "id": "N0tbNMu3b51w"
      },
      "execution_count": null,
      "outputs": []
    },
    {
      "cell_type": "code",
      "source": [
        "predicted_list=predicted_list.to_numpy()"
      ],
      "metadata": {
        "id": "bw6Z38_OdjJW"
      },
      "execution_count": null,
      "outputs": []
    },
    {
      "cell_type": "code",
      "source": [
        "predicted_list"
      ],
      "metadata": {
        "colab": {
          "base_uri": "https://localhost:8080/"
        },
        "id": "ic1BURZJdu7A",
        "outputId": "c5cc4ba4-84c8-4de2-a4b0-772de6f86564"
      },
      "execution_count": null,
      "outputs": [
        {
          "output_type": "execute_result",
          "data": {
            "text/plain": [
              "array([3.11546033, 3.01434095, 2.96015783, 2.95275623, 2.94145092,\n",
              "       2.96919948, 3.02149863, 3.0293887 , 3.09980744, 3.13707793,\n",
              "       3.1605197 , 3.1429392 , 3.12215   ])"
            ]
          },
          "metadata": {},
          "execution_count": 24
        }
      ]
    },
    {
      "cell_type": "code",
      "source": [
        "t=pd.DataFrame()\n",
        "t['gasoline_price']=combined['gasoline_price']"
      ],
      "metadata": {
        "id": "lDxxajb-KVFj"
      },
      "execution_count": null,
      "outputs": []
    },
    {
      "cell_type": "code",
      "source": [
        "from sklearn.metrics import mean_squared_error\n",
        "from math import sqrt\n",
        "error = mean_squared_error(t, predicted_list)\n",
        "print('Test MSE: %.3f' % error)"
      ],
      "metadata": {
        "colab": {
          "base_uri": "https://localhost:8080/"
        },
        "id": "SUYxOOIxKIIP",
        "outputId": "6a8f1752-35b1-48b0-ec3f-31cd45f6b659"
      },
      "execution_count": null,
      "outputs": [
        {
          "output_type": "stream",
          "name": "stdout",
          "text": [
            "Test MSE: 0.988\n"
          ]
        }
      ]
    },
    {
      "cell_type": "code",
      "source": [
        "from sklearn.metrics import mean_squared_error\n",
        "from math import sqrt\n",
        "rmse = sqrt(mean_squared_error(t, predicted_list))\n",
        "print('Test RMSE: %.3f' % rmse)"
      ],
      "metadata": {
        "id": "pTSO0JtUY6Mj",
        "colab": {
          "base_uri": "https://localhost:8080/"
        },
        "outputId": "1c0e5932-c6c7-46ef-dee2-4ee6c45ac353"
      },
      "execution_count": null,
      "outputs": [
        {
          "output_type": "stream",
          "name": "stdout",
          "text": [
            "Test RMSE: 0.994\n"
          ]
        }
      ]
    }
  ]
}